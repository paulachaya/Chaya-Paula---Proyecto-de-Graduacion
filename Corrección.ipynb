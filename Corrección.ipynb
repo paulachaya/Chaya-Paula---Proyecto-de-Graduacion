{
 "cells": [
  {
   "cell_type": "code",
   "execution_count": 1,
   "id": "d8269a2a",
   "metadata": {},
   "outputs": [],
   "source": [
    "import pandas as pd\n",
    "import csv\n",
    "import numpy as np\n",
    "from collections import Counter\n"
   ]
  },
  {
   "cell_type": "code",
   "execution_count": 7,
   "id": "14ad678d",
   "metadata": {},
   "outputs": [],
   "source": [
    "def generar_puntos_circunferencia(radio, lim1, lim2, num_puntos, centro=(0, 0)):\n",
    "    angulos = np.linspace(lim1, lim2, num_puntos, endpoint=False)  # Ángulos distribuidos uniformemente\n",
    "    x = centro[0] + radio * np.cos(angulos)  # Coordenadas X\n",
    "    y = centro[1] + radio * np.sin(angulos)  # Coordenadas Y\n",
    "    return x, y\n",
    "def grados_a_mm(valor):\n",
    "    return valor*5.25\n",
    "\n",
    "def mm_a_grados(valor):\n",
    "    return(valor/5.25)\n"
   ]
  },
  {
   "cell_type": "code",
   "execution_count": 8,
   "id": "1ffa9f46",
   "metadata": {},
   "outputs": [],
   "source": [
    " # Genero vector con estímulos\n",
    "Estimulos = []\n",
    "radios = np.arange(7, 22, 1.5)\n",
    "lim1, lim2 = -np.pi / 4, np.pi / 4\n",
    "num_puntos = 3\n",
    "for i in range(len(radios)):\n",
    "    x, y = generar_puntos_circunferencia(radios[i], lim1, lim2, num_puntos, centro=(0, 0))\n",
    "    num_puntos = num_puntos + 1\n",
    "    for i in range(1,len(x)):\n",
    "        Estimulos.append([x[i], y[i]])\n",
    "\n",
    "# Mezclar el vector Estimulos y separar las coordenadas x e y\n",
    "X = grados_a_mm(np.array([coord[0] for coord in Estimulos]))\n",
    "Y = grados_a_mm(np.array([coord[1] for coord in Estimulos]))"
   ]
  },
  {
   "cell_type": "code",
   "execution_count": 68,
   "id": "fbdeba41",
   "metadata": {},
   "outputs": [
    {
     "data": {
      "text/plain": [
       "130"
      ]
     },
     "execution_count": 68,
     "metadata": {},
     "output_type": "execute_result"
    }
   ],
   "source": [
    "len(Y)*2"
   ]
  },
  {
   "cell_type": "code",
   "execution_count": null,
   "id": "715559c6",
   "metadata": {},
   "outputs": [],
   "source": [
    "SUJETO,LADO = [1,2,3],['OjoDerecho','OjoIzquierdo']"
   ]
  },
  {
   "cell_type": "code",
   "execution_count": 10,
   "id": "cd4f5458",
   "metadata": {},
   "outputs": [
    {
     "name": "stdout",
     "output_type": "stream",
     "text": [
      "141\n"
     ]
    }
   ],
   "source": [
    "\n",
    "prueba = pd.read_csv(f'Pruebas copia/Prueba_SujetoAugusto_OjoDerecho_Eyetracker.csv',delimiter=';')\n",
    "prueba['coordenada x [mm]']\n",
    "data=[]\n",
    "for k in range(len(prueba['coordenada x [mm]'])):\n",
    "    for q in range(prueba['frecuencia de fallos'][k]):\n",
    "        data.append([prueba['coordenada x [mm]'][k],prueba['coordenada y [mm]'][k]])\n",
    "for p in range(len(X)):\n",
    "    data.append([-X[p],-Y[p]])\n",
    "    data.append([X[p],Y[p]])\n",
    "print(len(data))\n",
    "# cuento la frecuencia de cada par de coordenadas\n",
    "vector = [tuple(coord) for coord in data]\n",
    "frecuencias = Counter(vector)\n",
    "# Convertir los datos en una tabla de pandas\n",
    "DATA = [(x, y, freq-1) for (x, y), freq in frecuencias.items()]\n",
    "df = pd.DataFrame(DATA, columns=['coordenada x', 'coordenada y', 'frecuencia de fallos'])\n",
    "# Guardar la tabla en un archivo CSV\n",
    "df.to_csv(f'Pruebas copia/Prueba_SujetoAugusto_OjoDerecho_Eyetracker.cs', index=False,sep=',')   \n",
    "            "
   ]
  },
  {
   "cell_type": "code",
   "execution_count": null,
   "id": "4e30598a",
   "metadata": {},
   "outputs": [],
   "source": []
  }
 ],
 "metadata": {
  "kernelspec": {
   "display_name": "Python 3",
   "language": "python",
   "name": "python3"
  },
  "language_info": {
   "codemirror_mode": {
    "name": "ipython",
    "version": 3
   },
   "file_extension": ".py",
   "mimetype": "text/x-python",
   "name": "python",
   "nbconvert_exporter": "python",
   "pygments_lexer": "ipython3",
   "version": "3.13.0"
  }
 },
 "nbformat": 4,
 "nbformat_minor": 5
}
