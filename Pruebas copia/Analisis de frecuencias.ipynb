{
 "cells": [
  {
   "cell_type": "code",
   "execution_count": 2,
   "metadata": {},
   "outputs": [],
   "source": [
    "import pandas as pd\n",
    "import glob\n",
    "\n"
   ]
  },
  {
   "cell_type": "code",
   "execution_count": 3,
   "metadata": {},
   "outputs": [],
   "source": [
    "\n",
    "# Ruta donde están almacenados los archivos .csv\n",
    "ruta_archivos = \"Pruebas copia/Eyetracker Derecho/*.csv\"  # Cambia esto a la ruta de tus archivos\n"
   ]
  },
  {
   "cell_type": "code",
   "execution_count": 10,
   "metadata": {},
   "outputs": [
    {
     "name": "stdout",
     "output_type": "stream",
     "text": [
      "Archivo 'frecuencia_acierto_total.csv' generado con éxito.\n"
     ]
    }
   ],
   "source": [
    "\n",
    "# Lista para almacenar los dataframes de cada archivo\n",
    "dataframes = []\n",
    "\n",
    "# Leer y agregar cada archivo csv a la lista\n",
    "for archivo in glob.glob(ruta_archivos):\n",
    "    df = pd.read_csv(archivo,delimiter=';')\n",
    "    dataframes.append(df)\n",
    "\n",
    "# Concatenar todos los dataframes en uno solo\n",
    "datos_completos = pd.concat(dataframes)\n",
    "\n",
    "# Agrupar por 'coordenada x' y 'coordenada y', sumando la 'frecuencia de acierto'\n",
    "resultado = datos_completos.groupby(['coordenada x [mm]', 'coordenada y [mm]'])['frecuencia de fallos'].sum().reset_index()\n",
    "\n",
    "# Guardar el resultado en un nuevo archivo CSV\n",
    "resultado.to_csv(\"frecuencia_acierto_total.csv\", index=False)\n",
    "\n",
    "print(\"Archivo 'frecuencia_acierto_total.csv' generado con éxito.\")"
   ]
  },
  {
   "cell_type": "code",
   "execution_count": null,
   "metadata": {},
   "outputs": [],
   "source": []
  }
 ],
 "metadata": {
  "kernelspec": {
   "display_name": "Python 3",
   "language": "python",
   "name": "python3"
  },
  "language_info": {
   "codemirror_mode": {
    "name": "ipython",
    "version": 3
   },
   "file_extension": ".py",
   "mimetype": "text/x-python",
   "name": "python",
   "nbconvert_exporter": "python",
   "pygments_lexer": "ipython3",
   "version": "3.13.0"
  }
 },
 "nbformat": 4,
 "nbformat_minor": 2
}
